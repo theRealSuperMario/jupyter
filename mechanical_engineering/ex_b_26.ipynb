{
 "metadata": {
  "language_info": {
   "codemirror_mode": {
    "name": "ipython",
    "version": 3
   },
   "file_extension": ".py",
   "mimetype": "text/x-python",
   "name": "python",
   "nbconvert_exporter": "python",
   "pygments_lexer": "ipython3",
   "version": "3.7.7-final"
  },
  "orig_nbformat": 2,
  "kernelspec": {
   "name": "supermariopy",
   "display_name": "Python (supermariopy)",
   "language": "python"
  }
 },
 "nbformat": 4,
 "nbformat_minor": 2,
 "cells": [
  {
   "source": [
    "# Example B2.6 from Technische Mechanik 1\n",
    "\n",
    "\n",
    "* Note that this time, the equations are not linear and contain trigonometric expressions, which makes it hard for sympy.\n",
    "* In this very case, it is not useful to solve"
   ],
   "cell_type": "markdown",
   "metadata": {}
  },
  {
   "cell_type": "code",
   "execution_count": 1,
   "metadata": {},
   "outputs": [
    {
     "output_type": "display_data",
     "data": {
      "text/plain": "<IPython.core.display.Javascript object>",
      "application/javascript": "\n            setTimeout(function() {\n                var nbb_cell_id = 1;\n                var nbb_unformatted_code = \"%load_ext nb_black\";\n                var nbb_formatted_code = \"%load_ext nb_black\";\n                var nbb_cells = Jupyter.notebook.get_cells();\n                for (var i = 0; i < nbb_cells.length; ++i) {\n                    if (nbb_cells[i].input_prompt_number == nbb_cell_id) {\n                        if (nbb_cells[i].get_text() == nbb_unformatted_code) {\n                             nbb_cells[i].set_text(nbb_formatted_code);\n                        }\n                        break;\n                    }\n                }\n            }, 500);\n            "
     },
     "metadata": {}
    }
   ],
   "source": [
    "%load_ext nb_black"
   ]
  },
  {
   "cell_type": "code",
   "execution_count": 2,
   "metadata": {},
   "outputs": [
    {
     "output_type": "display_data",
     "data": {
      "text/plain": "<IPython.core.display.Javascript object>",
      "application/javascript": "\n            setTimeout(function() {\n                var nbb_cell_id = 2;\n                var nbb_unformatted_code = \"import sympy\\nfrom sympy import *\\nfrom sympy.solvers.solveset import linsolve\\nimport numpy as np\\nimport math\";\n                var nbb_formatted_code = \"import sympy\\nfrom sympy import *\\nfrom sympy.solvers.solveset import linsolve\\nimport numpy as np\\nimport math\";\n                var nbb_cells = Jupyter.notebook.get_cells();\n                for (var i = 0; i < nbb_cells.length; ++i) {\n                    if (nbb_cells[i].input_prompt_number == nbb_cell_id) {\n                        if (nbb_cells[i].get_text() == nbb_unformatted_code) {\n                             nbb_cells[i].set_text(nbb_formatted_code);\n                        }\n                        break;\n                    }\n                }\n            }, 500);\n            "
     },
     "metadata": {}
    }
   ],
   "source": [
    "import sympy\n",
    "from sympy import *\n",
    "from sympy.solvers.solveset import linsolve\n",
    "import numpy as np\n",
    "import math"
   ]
  },
  {
   "cell_type": "code",
   "execution_count": 10,
   "metadata": {},
   "outputs": [
    {
     "output_type": "display_data",
     "data": {
      "text/plain": "<IPython.core.display.Javascript object>",
      "application/javascript": "\n            setTimeout(function() {\n                var nbb_cell_id = 10;\n                var nbb_unformatted_code = \"c_1, c_2, G1, G2, G3, alpha_1, alpha_2 = symbols('c_1, c_2, G1, G2, G3, alpha_1, alpha_2')\";\n                var nbb_formatted_code = \"c_1, c_2, G1, G2, G3, alpha_1, alpha_2 = symbols(\\n    \\\"c_1, c_2, G1, G2, G3, alpha_1, alpha_2\\\"\\n)\";\n                var nbb_cells = Jupyter.notebook.get_cells();\n                for (var i = 0; i < nbb_cells.length; ++i) {\n                    if (nbb_cells[i].input_prompt_number == nbb_cell_id) {\n                        if (nbb_cells[i].get_text() == nbb_unformatted_code) {\n                             nbb_cells[i].set_text(nbb_formatted_code);\n                        }\n                        break;\n                    }\n                }\n            }, 500);\n            "
     },
     "metadata": {}
    }
   ],
   "source": [
    "c_1, c_2, G1, G2, G3, alpha_1, alpha_2 = symbols('c_1, c_2, G1, G2, G3, alpha_1, alpha_2')"
   ]
  },
  {
   "source": [
    "## Substituting sinus\n",
    "\n",
    "Using the trigonometic identity $\\cos^2 \\alpha + \\sin^2 \\alpha = 1$ , one can substitute\n",
    "\n",
    "$$\n",
    "c_1=\\sin (\\alpha_1) \\\\\n",
    "\\cos(\\alpha_1) = \\sqrt{1 - c_1^2} \\\\\n",
    "c_2=\\sin (\\alpha_2) \\\\\n",
    "\\cos(\\alpha_2) = \\sqrt{1 - c_2^2}\n",
    "$$"
   ],
   "cell_type": "markdown",
   "metadata": {}
  },
  {
   "cell_type": "code",
   "execution_count": 27,
   "metadata": {},
   "outputs": [
    {
     "output_type": "display_data",
     "data": {
      "text/plain": "<IPython.core.display.Javascript object>",
      "application/javascript": "\n            setTimeout(function() {\n                var nbb_cell_id = 27;\n                var nbb_unformatted_code = \"eq1 = Eq(G1 * sympy.cos(alpha_1) + G2 * sympy.cos(alpha_2), 0)\\neq2 = Eq(G1 * sympy.sin(alpha_1) + G2 * sympy.sin(alpha_2) - G3, 0)\";\n                var nbb_formatted_code = \"eq1 = Eq(G1 * sympy.cos(alpha_1) + G2 * sympy.cos(alpha_2), 0)\\neq2 = Eq(G1 * sympy.sin(alpha_1) + G2 * sympy.sin(alpha_2) - G3, 0)\";\n                var nbb_cells = Jupyter.notebook.get_cells();\n                for (var i = 0; i < nbb_cells.length; ++i) {\n                    if (nbb_cells[i].input_prompt_number == nbb_cell_id) {\n                        if (nbb_cells[i].get_text() == nbb_unformatted_code) {\n                             nbb_cells[i].set_text(nbb_formatted_code);\n                        }\n                        break;\n                    }\n                }\n            }, 500);\n            "
     },
     "metadata": {}
    }
   ],
   "source": [
    "eq1 = Eq(G1 * sympy.cos(alpha_1) + G2 * sympy.cos(alpha_2), 0)\n",
    "eq2 = Eq(G1 * sympy.sin(alpha_1) + G2 * sympy.sin(alpha_2) - G3, 0)"
   ]
  },
  {
   "source": [
    "## Original System\n",
    "\n",
    "$$\n",
    "G_1 \\cos \\alpha_1 + G_2 \\cos \\alpha_2 = 0 \\\\\n",
    "G_1 \\sin \\alpha_1 + G_2 \\sin \\alpha_2 - G_3 = 0 \\\\\n",
    "\n",
    "$$\n"
   ],
   "cell_type": "markdown",
   "metadata": {}
  },
  {
   "cell_type": "code",
   "execution_count": 28,
   "metadata": {},
   "outputs": [
    {
     "output_type": "display_data",
     "data": {
      "text/plain": "<IPython.core.display.Javascript object>",
      "application/javascript": "\n            setTimeout(function() {\n                var nbb_cell_id = 28;\n                var nbb_unformatted_code = \"substitutions = [\\n    (sympy.sin(alpha_1), c_1),\\n    (sympy.sin(alpha_2), c_2),\\n    (sympy.cos(alpha_1), sympy.sqrt(1 - c_1 ** 2)),\\n    (sympy.cos(alpha_2), sympy.sqrt(1 - c_2 ** 2)),\\n]\\nbackward_substitutions = [\\n    (s[1], s[0]) for s in substitutions\\n]\";\n                var nbb_formatted_code = \"substitutions = [\\n    (sympy.sin(alpha_1), c_1),\\n    (sympy.sin(alpha_2), c_2),\\n    (sympy.cos(alpha_1), sympy.sqrt(1 - c_1 ** 2)),\\n    (sympy.cos(alpha_2), sympy.sqrt(1 - c_2 ** 2)),\\n]\\nbackward_substitutions = [(s[1], s[0]) for s in substitutions]\";\n                var nbb_cells = Jupyter.notebook.get_cells();\n                for (var i = 0; i < nbb_cells.length; ++i) {\n                    if (nbb_cells[i].input_prompt_number == nbb_cell_id) {\n                        if (nbb_cells[i].get_text() == nbb_unformatted_code) {\n                             nbb_cells[i].set_text(nbb_formatted_code);\n                        }\n                        break;\n                    }\n                }\n            }, 500);\n            "
     },
     "metadata": {}
    }
   ],
   "source": [
    "substitutions = [\n",
    "    (sympy.sin(alpha_1), c_1),\n",
    "    (sympy.sin(alpha_2), c_2),\n",
    "    (sympy.cos(alpha_1), sympy.sqrt(1 - c_1 ** 2)),\n",
    "    (sympy.cos(alpha_2), sympy.sqrt(1 - c_2 ** 2)),\n",
    "]\n",
    "backward_substitutions = [\n",
    "    (s[1], s[0]) for s in substitutions\n",
    "]"
   ]
  },
  {
   "cell_type": "code",
   "execution_count": 29,
   "metadata": {},
   "outputs": [
    {
     "output_type": "display_data",
     "data": {
      "text/plain": "<IPython.core.display.Javascript object>",
      "application/javascript": "\n            setTimeout(function() {\n                var nbb_cell_id = 29;\n                var nbb_unformatted_code = \"from IPython.display import display\\n# https://stackoverflow.com/questions/20979993/how-to-pretty-print-in-ipython-notebook-via-sympy\";\n                var nbb_formatted_code = \"from IPython.display import display\\n\\n# https://stackoverflow.com/questions/20979993/how-to-pretty-print-in-ipython-notebook-via-sympy\";\n                var nbb_cells = Jupyter.notebook.get_cells();\n                for (var i = 0; i < nbb_cells.length; ++i) {\n                    if (nbb_cells[i].input_prompt_number == nbb_cell_id) {\n                        if (nbb_cells[i].get_text() == nbb_unformatted_code) {\n                             nbb_cells[i].set_text(nbb_formatted_code);\n                        }\n                        break;\n                    }\n                }\n            }, 500);\n            "
     },
     "metadata": {}
    }
   ],
   "source": [
    "from IPython.display import display\n",
    "# https://stackoverflow.com/questions/20979993/how-to-pretty-print-in-ipython-notebook-via-sympy"
   ]
  },
  {
   "cell_type": "code",
   "execution_count": 30,
   "metadata": {},
   "outputs": [
    {
     "output_type": "display_data",
     "data": {
      "text/plain": "Eq(G1*cos(alpha_1) + G2*cos(alpha_2), 0)",
      "text/latex": "$\\displaystyle G_{1} \\cos{\\left(\\alpha_{1} \\right)} + G_{2} \\cos{\\left(\\alpha_{2} \\right)} = 0$"
     },
     "metadata": {}
    },
    {
     "output_type": "display_data",
     "data": {
      "text/plain": "Eq(G1*sin(alpha_1) + G2*sin(alpha_2) - G3, 0)",
      "text/latex": "$\\displaystyle G_{1} \\sin{\\left(\\alpha_{1} \\right)} + G_{2} \\sin{\\left(\\alpha_{2} \\right)} - G_{3} = 0$"
     },
     "metadata": {}
    },
    {
     "output_type": "display_data",
     "data": {
      "text/plain": "<IPython.core.display.Javascript object>",
      "application/javascript": "\n            setTimeout(function() {\n                var nbb_cell_id = 30;\n                var nbb_unformatted_code = \"display(eq1)\\ndisplay(eq2)\";\n                var nbb_formatted_code = \"display(eq1)\\ndisplay(eq2)\";\n                var nbb_cells = Jupyter.notebook.get_cells();\n                for (var i = 0; i < nbb_cells.length; ++i) {\n                    if (nbb_cells[i].input_prompt_number == nbb_cell_id) {\n                        if (nbb_cells[i].get_text() == nbb_unformatted_code) {\n                             nbb_cells[i].set_text(nbb_formatted_code);\n                        }\n                        break;\n                    }\n                }\n            }, 500);\n            "
     },
     "metadata": {}
    }
   ],
   "source": [
    "display(eq1)\n",
    "display(eq2)"
   ]
  },
  {
   "source": [
    "system = [\n",
    "    eq1.subs(substitutions),\n",
    "    eq2.subs(substitutions)\n",
    "]\n",
    "display(system)"
   ],
   "cell_type": "code",
   "metadata": {},
   "execution_count": 31,
   "outputs": [
    {
     "output_type": "display_data",
     "data": {
      "text/plain": "[Eq(G1*sqrt(1 - c_1**2) + G2*sqrt(1 - c_2**2), 0), Eq(G1*c_1 + G2*c_2 - G3, 0)]"
     },
     "metadata": {}
    },
    {
     "output_type": "display_data",
     "data": {
      "text/plain": "<IPython.core.display.Javascript object>",
      "application/javascript": "\n            setTimeout(function() {\n                var nbb_cell_id = 31;\n                var nbb_unformatted_code = \"system = [\\n    eq1.subs(substitutions),\\n    eq2.subs(substitutions)\\n]\\ndisplay(system)\";\n                var nbb_formatted_code = \"system = [eq1.subs(substitutions), eq2.subs(substitutions)]\\ndisplay(system)\";\n                var nbb_cells = Jupyter.notebook.get_cells();\n                for (var i = 0; i < nbb_cells.length; ++i) {\n                    if (nbb_cells[i].input_prompt_number == nbb_cell_id) {\n                        if (nbb_cells[i].get_text() == nbb_unformatted_code) {\n                             nbb_cells[i].set_text(nbb_formatted_code);\n                        }\n                        break;\n                    }\n                }\n            }, 500);\n            "
     },
     "metadata": {}
    }
   ]
  },
  {
   "cell_type": "code",
   "execution_count": 32,
   "metadata": {},
   "outputs": [
    {
     "output_type": "display_data",
     "data": {
      "text/plain": "<IPython.core.display.Javascript object>",
      "application/javascript": "\n            setTimeout(function() {\n                var nbb_cell_id = 32;\n                var nbb_unformatted_code = \"solution_set = solve(system, (c_1, c_2), set=True)\";\n                var nbb_formatted_code = \"solution_set = solve(system, (c_1, c_2), set=True)\";\n                var nbb_cells = Jupyter.notebook.get_cells();\n                for (var i = 0; i < nbb_cells.length; ++i) {\n                    if (nbb_cells[i].input_prompt_number == nbb_cell_id) {\n                        if (nbb_cells[i].get_text() == nbb_unformatted_code) {\n                             nbb_cells[i].set_text(nbb_formatted_code);\n                        }\n                        break;\n                    }\n                }\n            }, 500);\n            "
     },
     "metadata": {}
    }
   ],
   "source": [
    "solution_set = solve(system, (c_1, c_2), set=True)"
   ]
  },
  {
   "cell_type": "code",
   "execution_count": 33,
   "metadata": {},
   "outputs": [
    {
     "output_type": "display_data",
     "data": {
      "text/plain": "([c_1, c_2],\n {((G1**2 - G2**2 + G3**2)/(2*G1*G3), (-G1**2 + G2**2 + G3**2)/(2*G2*G3))})"
     },
     "metadata": {}
    },
    {
     "output_type": "display_data",
     "data": {
      "text/plain": "<IPython.core.display.Javascript object>",
      "application/javascript": "\n            setTimeout(function() {\n                var nbb_cell_id = 33;\n                var nbb_unformatted_code = \"display(solution_set)\";\n                var nbb_formatted_code = \"display(solution_set)\";\n                var nbb_cells = Jupyter.notebook.get_cells();\n                for (var i = 0; i < nbb_cells.length; ++i) {\n                    if (nbb_cells[i].input_prompt_number == nbb_cell_id) {\n                        if (nbb_cells[i].get_text() == nbb_unformatted_code) {\n                             nbb_cells[i].set_text(nbb_formatted_code);\n                        }\n                        break;\n                    }\n                }\n            }, 500);\n            "
     },
     "metadata": {}
    }
   ],
   "source": [
    "display(solution_set)"
   ]
  },
  {
   "cell_type": "code",
   "execution_count": 34,
   "metadata": {},
   "outputs": [
    {
     "output_type": "stream",
     "name": "stdout",
     "text": [
      "Solution #1\n\tc_1: (G1**2 - G2**2 + G3**2)/(2*G1*G3)\n\tc_2: (-G1**2 + G2**2 + G3**2)/(2*G2*G3)\n"
     ]
    },
    {
     "output_type": "display_data",
     "data": {
      "text/plain": "<IPython.core.display.Javascript object>",
      "application/javascript": "\n            setTimeout(function() {\n                var nbb_cell_id = 34;\n                var nbb_unformatted_code = \"# Extract names, individual solutions and print everything\\nnames = solution_set[0]\\nsolutions = list(solution_set[1])\\nfor k in range(len(solutions)):\\n    print('Solution #%d' % (k+1))\\n    for k2, name in enumerate(names):\\n        print('\\\\t%s: %s' % (name, solutions[k][k2].simplify()) )\";\n                var nbb_formatted_code = \"# Extract names, individual solutions and print everything\\nnames = solution_set[0]\\nsolutions = list(solution_set[1])\\nfor k in range(len(solutions)):\\n    print(\\\"Solution #%d\\\" % (k + 1))\\n    for k2, name in enumerate(names):\\n        print(\\\"\\\\t%s: %s\\\" % (name, solutions[k][k2].simplify()))\";\n                var nbb_cells = Jupyter.notebook.get_cells();\n                for (var i = 0; i < nbb_cells.length; ++i) {\n                    if (nbb_cells[i].input_prompt_number == nbb_cell_id) {\n                        if (nbb_cells[i].get_text() == nbb_unformatted_code) {\n                             nbb_cells[i].set_text(nbb_formatted_code);\n                        }\n                        break;\n                    }\n                }\n            }, 500);\n            "
     },
     "metadata": {}
    }
   ],
   "source": [
    "# Extract names, individual solutions and print everything\n",
    "names = solution_set[0]\n",
    "solutions = list(solution_set[1])\n",
    "for k in range(len(solutions)):\n",
    "    print('Solution #%d' % (k+1))\n",
    "    for k2, name in enumerate(names):\n",
    "        print('\\t%s: %s' % (name, solutions[k][k2].simplify()) )"
   ]
  },
  {
   "cell_type": "code",
   "execution_count": 35,
   "metadata": {},
   "outputs": [
    {
     "output_type": "stream",
     "name": "stdout",
     "text": [
      "Solution #1\n\tsin(alpha_1): (G1**2 - G2**2 + G3**2)/(2*G1*G3)\n\tsin(alpha_2): (-G1**2 + G2**2 + G3**2)/(2*G2*G3)\n"
     ]
    },
    {
     "output_type": "display_data",
     "data": {
      "text/plain": "<IPython.core.display.Javascript object>",
      "application/javascript": "\n            setTimeout(function() {\n                var nbb_cell_id = 35;\n                var nbb_unformatted_code = \"# Extract names, individual solutions and print everything\\nnames = solution_set[0]\\nsolutions = list(solution_set[1])\\nfor k in range(len(solutions)):\\n    print('Solution #%d' % (k+1))\\n    for k2, name in enumerate(names):\\n        print('\\\\t%s: %s' % (name.subs(\\n            backward_substitutions\\n            ), solutions[k][k2]) )\";\n                var nbb_formatted_code = \"# Extract names, individual solutions and print everything\\nnames = solution_set[0]\\nsolutions = list(solution_set[1])\\nfor k in range(len(solutions)):\\n    print(\\\"Solution #%d\\\" % (k + 1))\\n    for k2, name in enumerate(names):\\n        print(\\\"\\\\t%s: %s\\\" % (name.subs(backward_substitutions), solutions[k][k2]))\";\n                var nbb_cells = Jupyter.notebook.get_cells();\n                for (var i = 0; i < nbb_cells.length; ++i) {\n                    if (nbb_cells[i].input_prompt_number == nbb_cell_id) {\n                        if (nbb_cells[i].get_text() == nbb_unformatted_code) {\n                             nbb_cells[i].set_text(nbb_formatted_code);\n                        }\n                        break;\n                    }\n                }\n            }, 500);\n            "
     },
     "metadata": {}
    }
   ],
   "source": [
    "# Extract names, individual solutions and print everything\n",
    "names = solution_set[0]\n",
    "solutions = list(solution_set[1])\n",
    "for k in range(len(solutions)):\n",
    "    print('Solution #%d' % (k+1))\n",
    "    for k2, name in enumerate(names):\n",
    "        print('\\t%s: %s' % (name.subs(\n",
    "            backward_substitutions\n",
    "            ), solutions[k][k2]) )"
   ]
  },
  {
   "source": [
    "## Weird things happen when substituting cos alpha"
   ],
   "cell_type": "markdown",
   "metadata": {}
  },
  {
   "cell_type": "code",
   "execution_count": 36,
   "metadata": {},
   "outputs": [
    {
     "output_type": "display_data",
     "data": {
      "text/plain": "[Eq(G1*c_1 + G2*c_2, 0), Eq(G1*sqrt(1 - c_1**2) + G2*sqrt(1 - c_2**2) - G3, 0)]"
     },
     "metadata": {}
    },
    {
     "output_type": "display_data",
     "data": {
      "text/plain": "<IPython.core.display.Javascript object>",
      "application/javascript": "\n            setTimeout(function() {\n                var nbb_cell_id = 36;\n                var nbb_unformatted_code = \"substitutions = [\\n    (sympy.cos(alpha_1), c_1),\\n    (sympy.cos(alpha_2), c_2),\\n    (sympy.sin(alpha_1), sympy.sqrt(1 - c_1 ** 2)),\\n    (sympy.sin(alpha_2), sympy.sqrt(1 - c_2 ** 2)),\\n]\\nbackward_substitutions = [\\n    (s[1], s[0]) for s in substitutions\\n]\\n\\nsystem = [\\n    eq1.subs(substitutions),\\n    eq2.subs(substitutions)\\n]\\ndisplay(system)\";\n                var nbb_formatted_code = \"substitutions = [\\n    (sympy.cos(alpha_1), c_1),\\n    (sympy.cos(alpha_2), c_2),\\n    (sympy.sin(alpha_1), sympy.sqrt(1 - c_1 ** 2)),\\n    (sympy.sin(alpha_2), sympy.sqrt(1 - c_2 ** 2)),\\n]\\nbackward_substitutions = [(s[1], s[0]) for s in substitutions]\\n\\nsystem = [eq1.subs(substitutions), eq2.subs(substitutions)]\\ndisplay(system)\";\n                var nbb_cells = Jupyter.notebook.get_cells();\n                for (var i = 0; i < nbb_cells.length; ++i) {\n                    if (nbb_cells[i].input_prompt_number == nbb_cell_id) {\n                        if (nbb_cells[i].get_text() == nbb_unformatted_code) {\n                             nbb_cells[i].set_text(nbb_formatted_code);\n                        }\n                        break;\n                    }\n                }\n            }, 500);\n            "
     },
     "metadata": {}
    }
   ],
   "source": [
    "substitutions = [\n",
    "    (sympy.cos(alpha_1), c_1),\n",
    "    (sympy.cos(alpha_2), c_2),\n",
    "    (sympy.sin(alpha_1), sympy.sqrt(1 - c_1 ** 2)),\n",
    "    (sympy.sin(alpha_2), sympy.sqrt(1 - c_2 ** 2)),\n",
    "]\n",
    "backward_substitutions = [\n",
    "    (s[1], s[0]) for s in substitutions\n",
    "]\n",
    "\n",
    "system = [\n",
    "    eq1.subs(substitutions),\n",
    "    eq2.subs(substitutions)\n",
    "]\n",
    "display(system)"
   ]
  },
  {
   "cell_type": "code",
   "execution_count": 37,
   "metadata": {},
   "outputs": [
    {
     "output_type": "display_data",
     "data": {
      "text/plain": "<IPython.core.display.Javascript object>",
      "application/javascript": "\n            setTimeout(function() {\n                var nbb_cell_id = 37;\n                var nbb_unformatted_code = \"solution_set = solve(system, (c_1, c_2), set=True)\";\n                var nbb_formatted_code = \"solution_set = solve(system, (c_1, c_2), set=True)\";\n                var nbb_cells = Jupyter.notebook.get_cells();\n                for (var i = 0; i < nbb_cells.length; ++i) {\n                    if (nbb_cells[i].input_prompt_number == nbb_cell_id) {\n                        if (nbb_cells[i].get_text() == nbb_unformatted_code) {\n                             nbb_cells[i].set_text(nbb_formatted_code);\n                        }\n                        break;\n                    }\n                }\n            }, 500);\n            "
     },
     "metadata": {}
    }
   ],
   "source": [
    "solution_set = solve(system, (c_1, c_2), set=True)"
   ]
  },
  {
   "cell_type": "code",
   "execution_count": 38,
   "metadata": {},
   "outputs": [
    {
     "output_type": "stream",
     "name": "stdout",
     "text": [
      "Solution #1\n\tcos(alpha_1): sqrt((-G1 + G2 + G3)*(G1 - G2 + G3)*(G1 + G2 - G3)*(G1 + G2 + G3))/(2*G1*G3)\n\tcos(alpha_2): -sqrt((-G1 + G2 + G3)*(G1 - G2 + G3)*(G1 + G2 - G3)*(G1 + G2 + G3))/(2*G2*G3)\nSolution #2\n\tcos(alpha_1): -sqrt((-G1 + G2 + G3)*(G1 - G2 + G3)*(G1 + G2 - G3)*(G1 + G2 + G3))/(2*G1*G3)\n\tcos(alpha_2): sqrt((-G1 + G2 + G3)*(G1 - G2 + G3)*(G1 + G2 - G3)*(G1 + G2 + G3))/(2*G2*G3)\n"
     ]
    },
    {
     "output_type": "display_data",
     "data": {
      "text/plain": "<IPython.core.display.Javascript object>",
      "application/javascript": "\n            setTimeout(function() {\n                var nbb_cell_id = 38;\n                var nbb_unformatted_code = \"# Extract names, individual solutions and print everything\\nnames = solution_set[0]\\nsolutions = list(solution_set[1])\\nfor k in range(len(solutions)):\\n    print('Solution #%d' % (k+1))\\n    for k2, name in enumerate(names):\\n        print('\\\\t%s: %s' % (name.subs(\\n            backward_substitutions\\n            ), solutions[k][k2]) )\";\n                var nbb_formatted_code = \"# Extract names, individual solutions and print everything\\nnames = solution_set[0]\\nsolutions = list(solution_set[1])\\nfor k in range(len(solutions)):\\n    print(\\\"Solution #%d\\\" % (k + 1))\\n    for k2, name in enumerate(names):\\n        print(\\\"\\\\t%s: %s\\\" % (name.subs(backward_substitutions), solutions[k][k2]))\";\n                var nbb_cells = Jupyter.notebook.get_cells();\n                for (var i = 0; i < nbb_cells.length; ++i) {\n                    if (nbb_cells[i].input_prompt_number == nbb_cell_id) {\n                        if (nbb_cells[i].get_text() == nbb_unformatted_code) {\n                             nbb_cells[i].set_text(nbb_formatted_code);\n                        }\n                        break;\n                    }\n                }\n            }, 500);\n            "
     },
     "metadata": {}
    }
   ],
   "source": [
    "# Extract names, individual solutions and print everything\n",
    "names = solution_set[0]\n",
    "solutions = list(solution_set[1])\n",
    "for k in range(len(solutions)):\n",
    "    print('Solution #%d' % (k+1))\n",
    "    for k2, name in enumerate(names):\n",
    "        print('\\t%s: %s' % (name.subs(\n",
    "            backward_substitutions\n",
    "            ), solutions[k][k2]) )"
   ]
  },
  {
   "source": [
    "## Takeaway\n",
    "\n",
    "* Solving non-linear systems with sympy is not quite straight foward\n",
    "* When substituting trigonometric expressions, it is better to substitute for the expressions without constant"
   ],
   "cell_type": "markdown",
   "metadata": {}
  },
  {
   "cell_type": "code",
   "execution_count": null,
   "metadata": {},
   "outputs": [],
   "source": []
  }
 ]
}