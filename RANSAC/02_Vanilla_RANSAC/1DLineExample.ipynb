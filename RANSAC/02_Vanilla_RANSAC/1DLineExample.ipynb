{
 "cells": [
  {
   "cell_type": "markdown",
   "metadata": {},
   "source": [
    "## Ransac Iteration\n",
    "\n",
    "\n",
    "1. sample n points (without replacement) from P and call the set S\n",
    "2. estimate M based on S\n",
    "3. calculate consensus set $S^{\\ast}$ by taking all points within P which are within certain tolerance of M\n",
    "4. if $S^{\\ast} > t$, exit and return $S^{\\ast}$ to calculate $M^{\\ast}$\n",
    "5. if $S^{\\ast} < t$, and max number of trials is not exceeded, start over, meaning that we again sample **randomly** from P\n",
    "\n",
    "\n",
    "* In the paper, they had some notes on how to select t and k (size of consensus set and mux number of iterations)\n",
    "* if number of trials is exceeded, return largest consensus set found or terminate with failure\n",
    "\n",
    "* max num selections : $k = log(1-z) / log(1 - b), b = w^n$. \n",
    "* $w$ is a probability that the data point is within tolerance, and has to be specified beforehand\n",
    "\n",
    "* in the example above : w = 0.85, tolerance = 0.8"
   ]
  },
  {
   "cell_type": "code",
   "execution_count": 1,
   "metadata": {},
   "outputs": [],
   "source": [
    "import numpy as np\n",
    "from matplotlib import pyplot as plt\n",
    "from supermariopy import plotting\n",
    "plotting.set_style()"
   ]
  },
  {
   "cell_type": "code",
   "execution_count": 2,
   "metadata": {},
   "outputs": [
    {
     "name": "stdout",
     "output_type": "stream",
     "text": [
      "rm: das Entfernen von '*.png' ist nicht möglich: Datei oder Verzeichnis nicht gefunden\n"
     ]
    }
   ],
   "source": [
    "rm *.png"
   ]
  },
  {
   "cell_type": "code",
   "execution_count": 3,
   "metadata": {},
   "outputs": [],
   "source": [
    "def toy_example(n_P=20, outlier_ratio=0.1):\n",
    "    x = np.linspace(0, 10, n_P)\n",
    "    y = x.copy()\n",
    "    n_outliers = int(n_P * outlier_ratio)\n",
    "    # definition of outlier: uniform additive error model on interval [0, 10]\n",
    "    \n",
    "    o = np.random.uniform(-1, 1, n_outliers) * 10\n",
    "    idx = np.random.choice(np.arange(n_P), n_outliers, replace=False)\n",
    "    y[idx] += o\n",
    "    return x, y\n",
    "\n",
    "def original_example():\n",
    "    x = np.array([0, 1, 2, 3, 3, 4, 10])\n",
    "    y = np.array([0, 1, 2, 2, 3, 4, 2])\n",
    "    return x, y"
   ]
  },
  {
   "cell_type": "code",
   "execution_count": 4,
   "metadata": {},
   "outputs": [],
   "source": [
    "x, y = original_example()"
   ]
  },
  {
   "cell_type": "code",
   "execution_count": 5,
   "metadata": {},
   "outputs": [
    {
     "data": {
      "text/plain": [
       "<matplotlib.collections.PathCollection at 0x7f4412489b10>"
      ]
     },
     "execution_count": 5,
     "metadata": {},
     "output_type": "execute_result"
    },
    {
     "data": {
      "image/png": "[encoded data removed]",
      "text/plain": [
       "<Figure size 432x288 with 1 Axes>"
      ]
     },
     "metadata": {},
     "output_type": "display_data"
    }
   ],
   "source": [
    "plt.scatter(x, y)"
   ]
  },
  {
   "cell_type": "code",
   "execution_count": 22,
   "metadata": {},
   "outputs": [],
   "source": [
    "def sample_S(P, n):\n",
    "    \"\"\" sample exactly n from P with p(P[i]) = 0.5 \"\"\"\n",
    "    idx = np.arange(len(P))\n",
    "    choice = np.random.choice(idx, n, replace=False)\n",
    "    S = P[choice]\n",
    "    return S\n",
    "\n",
    "\n",
    "def fit_model(S):\n",
    "    x = S[:, 0]\n",
    "    x_aug = np.stack([x, np.ones_like(x)], axis=1)\n",
    "    y = S[:, 1]\n",
    "    M, _, _, _ = np.linalg.lstsq(x_aug, y)\n",
    "    return M\n",
    "\n",
    "\n",
    "def get_consensus(M, P, tol):\n",
    "    x = P[:, 0]\n",
    "    y = P[:, 1]\n",
    "    y_model = x * M[0] + M[1]\n",
    "    residual = y - y_model\n",
    "    idx_prime = np.abs(residual) < tol\n",
    "    S_prime = P[idx_prime]\n",
    "    return S_prime\n",
    "\n",
    "import seaborn as sns\n",
    "\n",
    "def iterate_ransac(P, n, t, e_tol, k = 10):\n",
    "    \"\"\"vanilla ransac, i.e. we sample randomly a set of n points from P\"\"\"\n",
    "    # fit model\n",
    "    terminate = False\n",
    "    num_steps = 0\n",
    "    best_S = None\n",
    "    S = sample_S(P, n)\n",
    "    while not terminate and num_steps < k:\n",
    "        print(\"step \", num_steps)\n",
    "        M = fit_model(S)\n",
    "        S_prime = get_consensus(M, P, e_tol)\n",
    "        \n",
    "        print(\"|S*| = {}\".format(len(S_prime)))\n",
    "        if len(S_prime) >= t:\n",
    "            print(\"terminating\")\n",
    "            best_S = S_prime\n",
    "            terminate = True\n",
    "            yield S, S_prime\n",
    "            continue\n",
    "        else:\n",
    "            S_old = S.copy() # for visualization\n",
    "            S = sample_S(P, n)\n",
    "            if best_S is None:\n",
    "                best_S = S_prime\n",
    "            else:\n",
    "                if len(S_prime) > len(best_S):\n",
    "                    best_S = S_prime\n",
    "            num_steps += 1\n",
    "        yield S_old, S_prime\n",
    "    return\n",
    "\n",
    "\n",
    "\n",
    "def plot_iterations(iterations):\n",
    "    colors = plotting.get_palette(\"custom6\")\n",
    "    for i, (S, S_prime) in enumerate(iterations):\n",
    "        with plt.rc_context(plotting.BLOG_RC_PARAMS_5x4):\n",
    "            \n",
    "            # Plot P\n",
    "            plt.scatter(P[:, 0], P[:, 1], label=\"P\", s=20, zorder=3, marker=\"o\", color=colors[0])\n",
    "            A = fit_model(S)\n",
    "            A_prime = fit_model(S_prime)\n",
    "            \n",
    "            # S, M and M with tolerance\n",
    "            plt.scatter(S[:, 0], S[:, 1], label=\"S\", s=110, zorder=1, marker=\"s\", color=colors[1])\n",
    "            plt.title(\"n={}, t={}, Iteration {}: \".format(n, t, i) + \"sample \" + r\"$S$\")\n",
    "            \n",
    "            handles, labels = plt.gca().get_legend_handles_labels()\n",
    "            # sort both labels and handles by labels\n",
    "            labels, handles = zip(*sorted(zip(labels, handles), key=lambda t: t[0]))\n",
    "            plt.legend(handles, labels, loc=\"upper right\", ncol=2, frameon=True)\n",
    "            plt.xlim([-0.3, 11])\n",
    "            plt.ylim([-0.3, 6])\n",
    "            plt.tight_layout()\n",
    "            plt.savefig(\"Iteration_{:02d}_step_1.png\".format(i))\n",
    "            \n",
    "            y_model = A[0] * P[:, 0] + A[1]\n",
    "            plt.plot(P[:, 0], y_model, label=\"M\", color=colors[1], zorder=1, linestyle=\"-\")\n",
    "            \n",
    "            plt.title(\"n={}, t={}, Iteration {}: \".format(n, t, i)  + \"fit \" + r\"$M$ \" + \"to \" + r\"$S$\")\n",
    "            handles, labels = plt.gca().get_legend_handles_labels()\n",
    "            # sort both labels and handles by labels\n",
    "            labels, handles = zip(*sorted(zip(labels, handles), key=lambda t: t[0]))\n",
    "            plt.legend(handles, labels, loc=\"upper right\", ncol=2, frameon=True)\n",
    "            plt.xlim([-0.3, 11])\n",
    "            plt.ylim([-0.3, 6])\n",
    "            plt.tight_layout()\n",
    "            plt.savefig(\"Iteration_{:02d}_step_2.png\".format(i))\n",
    "            \n",
    "            # plot S*\n",
    "            plt.fill_between(P[:, 0], y_model - e_tol, y_model + e_tol, label=r\"$M \\pm \\epsilon$\", color=colors[1], alpha=0.1, zorder=-1)\n",
    "            plt.scatter(S_prime[:, 0], S_prime[:, 1], label=\"S*\", s=70, zorder=2, marker=\"o\", color=colors[3])\n",
    "\n",
    "            \n",
    "            plt.title(\"n={}, t={}, Iteration {}: \".format(n, t, i)  + \"get consensus set \" r\"$S^{\\ast}$\")\n",
    "            handles, labels = plt.gca().get_legend_handles_labels()\n",
    "            # sort both labels and handles by labels\n",
    "            labels, handles = zip(*sorted(zip(labels, handles), key=lambda t: t[0]))\n",
    "            plt.legend(handles, labels, loc=\"upper right\", ncol=2, frameon=True)\n",
    "            plt.xlim([-0.3, 11])\n",
    "            plt.ylim([-0.3, 6])\n",
    "            plt.tight_layout()\n",
    "            plt.savefig(\"Iteration_{:02d}_step_3.png\".format(i))\n",
    "            \n",
    "            if len(S_prime) >= t:\n",
    "                plt.plot(P[:, 0], A_prime[0] * P[:, 0] + A_prime[1], label=\"M*\", color=colors[3], zorder=1, linestyle=\"--\")\n",
    "                plt.title(\"n={}, t={}, Iteration {}: \".format(n, t, i)  + r\"$|S^{\\ast}| \\geq t$, \" + \"terminate\")\n",
    "                handles, labels = plt.gca().get_legend_handles_labels()\n",
    "                # sort both labels and handles by labels\n",
    "                labels, handles = zip(*sorted(zip(labels, handles), key=lambda t: t[0]))\n",
    "                plt.legend(handles, labels, loc=\"upper right\", ncol=2, frameon=True)\n",
    "                plt.xlim([-0.3, 11])\n",
    "                plt.ylim([-0.3, 6])\n",
    "                plt.tight_layout()\n",
    "                plt.savefig(\"Iteration_{:02d}_step_4.png\".format(i))\n",
    "            else:\n",
    "                plt.title(\"n={}, t={}, Iteration {}: \".format(n, t, i)  + \"start over\")\n",
    "                handles, labels = plt.gca().get_legend_handles_labels()\n",
    "                # sort both labels and handles by labels\n",
    "                labels, handles = zip(*sorted(zip(labels, handles), key=lambda t: t[0]))\n",
    "                plt.legend(handles, labels, loc=\"upper right\", ncol=2, frameon=True)\n",
    "                plt.xlim([-0.3, 11])\n",
    "                plt.ylim([-0.3, 6])\n",
    "                plt.tight_layout()\n",
    "                plt.savefig(\"Iteration_{:02d}_step_5.png\".format(i))\n",
    "            \n",
    "            plt.close()\n",
    "    "
   ]
  },
  {
   "cell_type": "markdown",
   "metadata": {},
   "source": [
    "## Run 3 times with different initializations"
   ]
  },
  {
   "cell_type": "code",
   "execution_count": 23,
   "metadata": {},
   "outputs": [
    {
     "name": "stdout",
     "output_type": "stream",
     "text": [
      "step  0\n",
      "|S*| = 6\n",
      "terminating\n"
     ]
    },
    {
     "name": "stderr",
     "output_type": "stream",
     "text": [
      "/home/sandro/anaconda3/envs/py37_tfpt/lib/python3.7/site-packages/ipykernel_launcher.py:13: FutureWarning: `rcond` parameter will change to the default of machine precision times ``max(M, N)`` where M and N are the input matrix dimensions.\n",
      "To use the future default and silence this warning we advise to pass `rcond=None`, to keep using the old, explicitly pass `rcond=-1`.\n",
      "  del sys.path[0]\n",
      "/home/sandro/anaconda3/envs/py37_tfpt/lib/python3.7/site-packages/ipykernel_launcher.py:13: FutureWarning: `rcond` parameter will change to the default of machine precision times ``max(M, N)`` where M and N are the input matrix dimensions.\n",
      "To use the future default and silence this warning we advise to pass `rcond=None`, to keep using the old, explicitly pass `rcond=-1`.\n",
      "  del sys.path[0]\n"
     ]
    },
    {
     "name": "stdout",
     "output_type": "stream",
     "text": [
      "mkdir: das Verzeichnis »seed_42“ kann nicht angelegt werden: Die Datei existiert bereits\n",
      "step  0\n",
      "|S*| = 4\n",
      "terminating\n"
     ]
    },
    {
     "name": "stderr",
     "output_type": "stream",
     "text": [
      "/home/sandro/anaconda3/envs/py37_tfpt/lib/python3.7/site-packages/ipykernel_launcher.py:13: FutureWarning: `rcond` parameter will change to the default of machine precision times ``max(M, N)`` where M and N are the input matrix dimensions.\n",
      "To use the future default and silence this warning we advise to pass `rcond=None`, to keep using the old, explicitly pass `rcond=-1`.\n",
      "  del sys.path[0]\n"
     ]
    },
    {
     "name": "stdout",
     "output_type": "stream",
     "text": [
      "mkdir: das Verzeichnis »seed_41“ kann nicht angelegt werden: Die Datei existiert bereits\n",
      "step  0\n",
      "|S*| = 5\n",
      "terminating\n"
     ]
    },
    {
     "name": "stderr",
     "output_type": "stream",
     "text": [
      "/home/sandro/anaconda3/envs/py37_tfpt/lib/python3.7/site-packages/ipykernel_launcher.py:13: FutureWarning: `rcond` parameter will change to the default of machine precision times ``max(M, N)`` where M and N are the input matrix dimensions.\n",
      "To use the future default and silence this warning we advise to pass `rcond=None`, to keep using the old, explicitly pass `rcond=-1`.\n",
      "  del sys.path[0]\n"
     ]
    },
    {
     "name": "stdout",
     "output_type": "stream",
     "text": [
      "mkdir: das Verzeichnis »seed_40“ kann nicht angelegt werden: Die Datei existiert bereits\n"
     ]
    }
   ],
   "source": [
    "np.random.seed(42)\n",
    "\n",
    "P = np.stack([x, y], axis=1)\n",
    "n = 3\n",
    "initial_S = sample_S(P, n)\n",
    "t = 4 # minimum size of consensus set\n",
    "e_tol = 0.8\n",
    "k = 20\n",
    "iterations = list(iterate_ransac(P, n, t, e_tol, k))\n",
    "plot_iterations(iterations)\n",
    "\n",
    "!mkdir seed_42\n",
    "!mv *.png seed_42\n",
    "\n",
    "np.random.seed(41)\n",
    "\n",
    "P = np.stack([x, y], axis=1)\n",
    "n = 3\n",
    "initial_S = sample_S(P, n)\n",
    "t = 4 # minimum size of consensus set\n",
    "e_tol = 0.8\n",
    "k = 20\n",
    "iterations = list(iterate_ransac(P, n, t, e_tol, k))\n",
    "plot_iterations(iterations)\n",
    "!mkdir seed_41\n",
    "!mv *.png seed_41\n",
    "\n",
    "np.random.seed(40)\n",
    "P = np.stack([x, y], axis=1)\n",
    "n = 3\n",
    "initial_S = sample_S(P, n)\n",
    "t = 4 # minimum size of consensus set\n",
    "e_tol = 0.8\n",
    "k = 20\n",
    "iterations = list(iterate_ransac(P, n, t, e_tol, k))\n",
    "plot_iterations(iterations)\n",
    "!mkdir seed_40\n",
    "!mv *.png seed_40"
   ]
  },
  {
   "cell_type": "markdown",
   "metadata": {},
   "source": [
    "## run with smaller n"
   ]
  },
  {
   "cell_type": "code",
   "execution_count": 24,
   "metadata": {},
   "outputs": [
    {
     "name": "stdout",
     "output_type": "stream",
     "text": [
      "step  0\n",
      "|S*| = 6\n",
      "terminating\n"
     ]
    },
    {
     "name": "stderr",
     "output_type": "stream",
     "text": [
      "/home/sandro/anaconda3/envs/py37_tfpt/lib/python3.7/site-packages/ipykernel_launcher.py:13: FutureWarning: `rcond` parameter will change to the default of machine precision times ``max(M, N)`` where M and N are the input matrix dimensions.\n",
      "To use the future default and silence this warning we advise to pass `rcond=None`, to keep using the old, explicitly pass `rcond=-1`.\n",
      "  del sys.path[0]\n",
      "/home/sandro/anaconda3/envs/py37_tfpt/lib/python3.7/site-packages/ipykernel_launcher.py:13: FutureWarning: `rcond` parameter will change to the default of machine precision times ``max(M, N)`` where M and N are the input matrix dimensions.\n",
      "To use the future default and silence this warning we advise to pass `rcond=None`, to keep using the old, explicitly pass `rcond=-1`.\n",
      "  del sys.path[0]\n"
     ]
    },
    {
     "name": "stdout",
     "output_type": "stream",
     "text": [
      "mkdir: das Verzeichnis »seed_42_n2_t5“ kann nicht angelegt werden: Die Datei existiert bereits\n",
      "step  0\n",
      "|S*| = 4\n",
      "updating consenus set\n",
      "step  1\n",
      "|S*| = 5\n",
      "terminating\n"
     ]
    },
    {
     "name": "stderr",
     "output_type": "stream",
     "text": [
      "/home/sandro/anaconda3/envs/py37_tfpt/lib/python3.7/site-packages/ipykernel_launcher.py:13: FutureWarning: `rcond` parameter will change to the default of machine precision times ``max(M, N)`` where M and N are the input matrix dimensions.\n",
      "To use the future default and silence this warning we advise to pass `rcond=None`, to keep using the old, explicitly pass `rcond=-1`.\n",
      "  del sys.path[0]\n",
      "/home/sandro/anaconda3/envs/py37_tfpt/lib/python3.7/site-packages/ipykernel_launcher.py:13: FutureWarning: `rcond` parameter will change to the default of machine precision times ``max(M, N)`` where M and N are the input matrix dimensions.\n",
      "To use the future default and silence this warning we advise to pass `rcond=None`, to keep using the old, explicitly pass `rcond=-1`.\n",
      "  del sys.path[0]\n"
     ]
    },
    {
     "name": "stdout",
     "output_type": "stream",
     "text": [
      "mkdir: das Verzeichnis »seed_41_n2_t5“ kann nicht angelegt werden: Die Datei existiert bereits\n",
      "step  0\n",
      "|S*| = 5\n",
      "terminating\n"
     ]
    },
    {
     "name": "stderr",
     "output_type": "stream",
     "text": [
      "/home/sandro/anaconda3/envs/py37_tfpt/lib/python3.7/site-packages/ipykernel_launcher.py:13: FutureWarning: `rcond` parameter will change to the default of machine precision times ``max(M, N)`` where M and N are the input matrix dimensions.\n",
      "To use the future default and silence this warning we advise to pass `rcond=None`, to keep using the old, explicitly pass `rcond=-1`.\n",
      "  del sys.path[0]\n"
     ]
    },
    {
     "name": "stdout",
     "output_type": "stream",
     "text": [
      "mkdir: das Verzeichnis »seed_40_n2_t5“ kann nicht angelegt werden: Die Datei existiert bereits\n"
     ]
    }
   ],
   "source": [
    "np.random.seed(42)\n",
    "\n",
    "P = np.stack([x, y], axis=1)\n",
    "n = 3\n",
    "initial_S = sample_S(P, n)\n",
    "t = 5 # minimum size of consensus set\n",
    "e_tol = 0.8\n",
    "k = 20\n",
    "iterations = list(iterate_ransac(P, n, t, e_tol, k))\n",
    "plot_iterations(iterations)\n",
    "\n",
    "!mkdir seed_42_n2_t5\n",
    "!mv *.png seed_42_n2_t5\n",
    "\n",
    "np.random.seed(41)\n",
    "\n",
    "P = np.stack([x, y], axis=1)\n",
    "n = 3\n",
    "initial_S = sample_S(P, n)\n",
    "t = 5 # minimum size of consensus set\n",
    "e_tol = 0.8\n",
    "k = 20\n",
    "iterations = list(iterate_ransac(P, n, t, e_tol, k))\n",
    "plot_iterations(iterations)\n",
    "!mkdir seed_41_n2_t5\n",
    "!mv *.png seed_41_n2_t5\n",
    "\n",
    "np.random.seed(40)\n",
    "P = np.stack([x, y], axis=1)\n",
    "n = 3\n",
    "initial_S = sample_S(P, n)\n",
    "t = 5 # minimum size of consensus set\n",
    "e_tol = 0.8\n",
    "k = 20\n",
    "iterations = list(iterate_ransac(P, n, t, e_tol, k))\n",
    "plot_iterations(iterations)\n",
    "!mkdir seed_40_n2_t5\n",
    "!mv *.png seed_40_n2_t5"
   ]
  },
  {
   "cell_type": "code",
   "execution_count": 25,
   "metadata": {},
   "outputs": [],
   "source": [
    "!for d in seed_*/; do cd $d; convert -delay 200 -loop 0 *.png animation.gif; cd ..; done"
   ]
  },
  {
   "cell_type": "markdown",
   "metadata": {},
   "source": [
    "move animations to pardir so that zim export works"
   ]
  },
  {
   "cell_type": "code",
   "execution_count": 6,
   "metadata": {},
   "outputs": [],
   "source": [
    "import shutil, os, glob"
   ]
  },
  {
   "cell_type": "code",
   "execution_count": 14,
   "metadata": {},
   "outputs": [],
   "source": [
    "for gif_file in glob.glob(\"seed_*/animation.gif\"):\n",
    "    dirname = os.path.dirname(gif_file)\n",
    "    basename = os.path.basename(gif_file)\n",
    "    shutil.copyfile(gif_file, \"_\".join([dirname,basename]))"
   ]
  },
  {
   "cell_type": "code",
   "execution_count": null,
   "metadata": {},
   "outputs": [],
   "source": []
  }
 ],
 "metadata": {
  "kernelspec": {
   "display_name": "Python (py37_tfpt)",
   "language": "python",
   "name": "py37_tfpt"
  },
  "language_info": {
   "codemirror_mode": {
    "name": "ipython",
    "version": 3
   },
   "file_extension": ".py",
   "mimetype": "text/x-python",
   "name": "python",
   "nbconvert_exporter": "python",
   "pygments_lexer": "ipython3",
   "version": "3.7.6"
  }
 },
 "nbformat": 4,
 "nbformat_minor": 4
}
